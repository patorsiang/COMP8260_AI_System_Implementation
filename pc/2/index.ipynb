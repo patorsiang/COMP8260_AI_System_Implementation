{
 "cells": [
  {
   "cell_type": "markdown",
   "metadata": {},
   "source": [
    "# PC 2"
   ]
  },
  {
   "cell_type": "markdown",
   "metadata": {},
   "source": [
    "## Import packages"
   ]
  },
  {
   "cell_type": "code",
   "execution_count": 1,
   "metadata": {},
   "outputs": [],
   "source": [
    "import pandas as pd\n",
    "import numpy as np\n",
    "from sklearn.datasets import fetch_openml\n",
    "from sklearn.model_selection import train_test_split, GridSearchCV, cross_validate\n",
    "from sklearn.tree import DecisionTreeClassifier\n",
    "from sklearn.ensemble import RandomForestClassifier, AdaBoostClassifier, GradientBoostingClassifier\n",
    "from sklearn.impute import SimpleImputer\n",
    "from sklearn.preprocessing import OneHotEncoder\n",
    "from sklearn.compose import ColumnTransformer\n",
    "from sklearn.pipeline import Pipeline\n",
    "from sklearn.metrics import accuracy_score\n",
    "import matplotlib.pyplot as plt"
   ]
  },
  {
   "cell_type": "markdown",
   "metadata": {},
   "source": [
    "## Initial exploration"
   ]
  },
  {
   "cell_type": "markdown",
   "metadata": {},
   "source": [
    "### 1.1. Load the dataset"
   ]
  },
  {
   "cell_type": "markdown",
   "metadata": {},
   "source": [
    "- Load the **adult** dataset **(version 2)** from openml.org using the `sklearn.datasets.fetch_openml` function. Have a look at the documentation for `fetch_openml` if you are not familiar with how to use it, check what is the returned type and make sure you understand how to access the input and target feature of the dataset. "
   ]
  },
  {
   "cell_type": "code",
   "execution_count": 2,
   "metadata": {},
   "outputs": [],
   "source": [
    "data = fetch_openml(data_id=1590, as_frame=True)  # https://openml.org/search?type=data&status=active&id=1590\n",
    "X = data.data\n",
    "y = data.target"
   ]
  },
  {
   "cell_type": "markdown",
   "metadata": {},
   "source": [
    "### 1.2. Understand the dataset"
   ]
  },
  {
   "cell_type": "markdown",
   "metadata": {},
   "source": [
    "- Print the type of each feature to see if they are categorical or numeric (hint you can use `pandas.Dataframe.info` to get information about columns in the `DataFrame`). \n",
    "- Do you notice any feature with missing values? Print out the size of the dataset (number of instances) and the distribution of the target across the two classes using `pandas.Series.value_counts`"
   ]
  },
  {
   "cell_type": "code",
   "execution_count": 3,
   "metadata": {},
   "outputs": [
    {
     "name": "stdout",
     "output_type": "stream",
     "text": [
      "Dataset info:\n",
      "<class 'pandas.core.frame.DataFrame'>\n",
      "RangeIndex: 48842 entries, 0 to 48841\n",
      "Data columns (total 14 columns):\n",
      " #   Column          Non-Null Count  Dtype   \n",
      "---  ------          --------------  -----   \n",
      " 0   age             48842 non-null  int64   \n",
      " 1   workclass       46043 non-null  category\n",
      " 2   fnlwgt          48842 non-null  int64   \n",
      " 3   education       48842 non-null  category\n",
      " 4   education-num   48842 non-null  int64   \n",
      " 5   marital-status  48842 non-null  category\n",
      " 6   occupation      46033 non-null  category\n",
      " 7   relationship    48842 non-null  category\n",
      " 8   race            48842 non-null  category\n",
      " 9   sex             48842 non-null  category\n",
      " 10  capital-gain    48842 non-null  int64   \n",
      " 11  capital-loss    48842 non-null  int64   \n",
      " 12  hours-per-week  48842 non-null  int64   \n",
      " 13  native-country  47985 non-null  category\n",
      "dtypes: category(8), int64(6)\n",
      "memory usage: 2.6 MB\n",
      "\n",
      "Missing values per column:\n",
      " age                  0\n",
      "workclass         2799\n",
      "fnlwgt               0\n",
      "education            0\n",
      "education-num        0\n",
      "marital-status       0\n",
      "occupation        2809\n",
      "relationship         0\n",
      "race                 0\n",
      "sex                  0\n",
      "capital-gain         0\n",
      "capital-loss         0\n",
      "hours-per-week       0\n",
      "native-country     857\n",
      "dtype: int64\n",
      "\n",
      "Dataset size: (48842, 14)\n",
      "\n",
      "Target distribution:\n",
      " class\n",
      "<=50K    37155\n",
      ">50K     11687\n",
      "Name: count, dtype: int64\n"
     ]
    }
   ],
   "source": [
    "print(\"Dataset info:\")\n",
    "X.info()\n",
    "print(\"\\nMissing values per column:\\n\", X.isnull().sum())\n",
    "print(\"\\nDataset size:\", X.shape)\n",
    "print(\"\\nTarget distribution:\\n\", y.value_counts())"
   ]
  },
  {
   "cell_type": "markdown",
   "metadata": {},
   "source": [
    "### 2. Split the data"
   ]
  },
  {
   "cell_type": "markdown",
   "metadata": {},
   "source": [
    "- Split the data into a train datasets (`X_train, y_train`) and test dataset (`X_test, y_test`), using the `sklearn.model_selection.train_test_split` function. \n",
    "- Verify the size of each dataset looking at the `shape` attribute."
   ]
  },
  {
   "cell_type": "code",
   "execution_count": 4,
   "metadata": {},
   "outputs": [
    {
     "name": "stdout",
     "output_type": "stream",
     "text": [
      "\n",
      "Training set size: (39073, 14)\n",
      "Test set size: (9769, 14)\n"
     ]
    }
   ],
   "source": [
    "X_train, X_test, y_train, y_test = train_test_split(X, y, test_size=0.2, random_state=42)\n",
    "print(\"\\nTraining set size:\", X_train.shape)\n",
    "print(\"Test set size:\", X_test.shape)\n"
   ]
  },
  {
   "cell_type": "markdown",
   "metadata": {},
   "source": [
    "### 3. Create X_train_num by dropping non-numeric columns"
   ]
  },
  {
   "cell_type": "markdown",
   "metadata": {},
   "source": [
    "- Create an `X_train_num` training dataset by dropping the non-numerical features from the input data, (Hint you can select the relevant columns using `[]` and a list of column names, or use `pandas.Dataframe.drop` to drop the categorical columns or use `pandas.DataFrame.select_dtypes`)"
   ]
  },
  {
   "cell_type": "code",
   "execution_count": 5,
   "metadata": {},
   "outputs": [],
   "source": [
    "X_train_num = X_train.select_dtypes(include=['int64', 'float64'])\n",
    "X_test_num = X_test.select_dtypes(include=['int64', 'float64'])"
   ]
  },
  {
   "cell_type": "markdown",
   "metadata": {},
   "source": [
    "## Decision Trees"
   ]
  },
  {
   "cell_type": "markdown",
   "metadata": {},
   "source": [
    "### 4.1. Train a DecisionTreeClassifier on numerical data"
   ]
  },
  {
   "cell_type": "markdown",
   "metadata": {},
   "source": [
    "- Train a `DecisionTreeClassifier` with default parameters to predict the target class from the numerical attributes of input using its fit method. "
   ]
  },
  {
   "cell_type": "code",
   "execution_count": 6,
   "metadata": {},
   "outputs": [
    {
     "data": {
      "text/html": [
       "<style>#sk-container-id-1 {\n",
       "  /* Definition of color scheme common for light and dark mode */\n",
       "  --sklearn-color-text: black;\n",
       "  --sklearn-color-line: gray;\n",
       "  /* Definition of color scheme for unfitted estimators */\n",
       "  --sklearn-color-unfitted-level-0: #fff5e6;\n",
       "  --sklearn-color-unfitted-level-1: #f6e4d2;\n",
       "  --sklearn-color-unfitted-level-2: #ffe0b3;\n",
       "  --sklearn-color-unfitted-level-3: chocolate;\n",
       "  /* Definition of color scheme for fitted estimators */\n",
       "  --sklearn-color-fitted-level-0: #f0f8ff;\n",
       "  --sklearn-color-fitted-level-1: #d4ebff;\n",
       "  --sklearn-color-fitted-level-2: #b3dbfd;\n",
       "  --sklearn-color-fitted-level-3: cornflowerblue;\n",
       "\n",
       "  /* Specific color for light theme */\n",
       "  --sklearn-color-text-on-default-background: var(--sg-text-color, var(--theme-code-foreground, var(--jp-content-font-color1, black)));\n",
       "  --sklearn-color-background: var(--sg-background-color, var(--theme-background, var(--jp-layout-color0, white)));\n",
       "  --sklearn-color-border-box: var(--sg-text-color, var(--theme-code-foreground, var(--jp-content-font-color1, black)));\n",
       "  --sklearn-color-icon: #696969;\n",
       "\n",
       "  @media (prefers-color-scheme: dark) {\n",
       "    /* Redefinition of color scheme for dark theme */\n",
       "    --sklearn-color-text-on-default-background: var(--sg-text-color, var(--theme-code-foreground, var(--jp-content-font-color1, white)));\n",
       "    --sklearn-color-background: var(--sg-background-color, var(--theme-background, var(--jp-layout-color0, #111)));\n",
       "    --sklearn-color-border-box: var(--sg-text-color, var(--theme-code-foreground, var(--jp-content-font-color1, white)));\n",
       "    --sklearn-color-icon: #878787;\n",
       "  }\n",
       "}\n",
       "\n",
       "#sk-container-id-1 {\n",
       "  color: var(--sklearn-color-text);\n",
       "}\n",
       "\n",
       "#sk-container-id-1 pre {\n",
       "  padding: 0;\n",
       "}\n",
       "\n",
       "#sk-container-id-1 input.sk-hidden--visually {\n",
       "  border: 0;\n",
       "  clip: rect(1px 1px 1px 1px);\n",
       "  clip: rect(1px, 1px, 1px, 1px);\n",
       "  height: 1px;\n",
       "  margin: -1px;\n",
       "  overflow: hidden;\n",
       "  padding: 0;\n",
       "  position: absolute;\n",
       "  width: 1px;\n",
       "}\n",
       "\n",
       "#sk-container-id-1 div.sk-dashed-wrapped {\n",
       "  border: 1px dashed var(--sklearn-color-line);\n",
       "  margin: 0 0.4em 0.5em 0.4em;\n",
       "  box-sizing: border-box;\n",
       "  padding-bottom: 0.4em;\n",
       "  background-color: var(--sklearn-color-background);\n",
       "}\n",
       "\n",
       "#sk-container-id-1 div.sk-container {\n",
       "  /* jupyter's `normalize.less` sets `[hidden] { display: none; }`\n",
       "     but bootstrap.min.css set `[hidden] { display: none !important; }`\n",
       "     so we also need the `!important` here to be able to override the\n",
       "     default hidden behavior on the sphinx rendered scikit-learn.org.\n",
       "     See: https://github.com/scikit-learn/scikit-learn/issues/21755 */\n",
       "  display: inline-block !important;\n",
       "  position: relative;\n",
       "}\n",
       "\n",
       "#sk-container-id-1 div.sk-text-repr-fallback {\n",
       "  display: none;\n",
       "}\n",
       "\n",
       "div.sk-parallel-item,\n",
       "div.sk-serial,\n",
       "div.sk-item {\n",
       "  /* draw centered vertical line to link estimators */\n",
       "  background-image: linear-gradient(var(--sklearn-color-text-on-default-background), var(--sklearn-color-text-on-default-background));\n",
       "  background-size: 2px 100%;\n",
       "  background-repeat: no-repeat;\n",
       "  background-position: center center;\n",
       "}\n",
       "\n",
       "/* Parallel-specific style estimator block */\n",
       "\n",
       "#sk-container-id-1 div.sk-parallel-item::after {\n",
       "  content: \"\";\n",
       "  width: 100%;\n",
       "  border-bottom: 2px solid var(--sklearn-color-text-on-default-background);\n",
       "  flex-grow: 1;\n",
       "}\n",
       "\n",
       "#sk-container-id-1 div.sk-parallel {\n",
       "  display: flex;\n",
       "  align-items: stretch;\n",
       "  justify-content: center;\n",
       "  background-color: var(--sklearn-color-background);\n",
       "  position: relative;\n",
       "}\n",
       "\n",
       "#sk-container-id-1 div.sk-parallel-item {\n",
       "  display: flex;\n",
       "  flex-direction: column;\n",
       "}\n",
       "\n",
       "#sk-container-id-1 div.sk-parallel-item:first-child::after {\n",
       "  align-self: flex-end;\n",
       "  width: 50%;\n",
       "}\n",
       "\n",
       "#sk-container-id-1 div.sk-parallel-item:last-child::after {\n",
       "  align-self: flex-start;\n",
       "  width: 50%;\n",
       "}\n",
       "\n",
       "#sk-container-id-1 div.sk-parallel-item:only-child::after {\n",
       "  width: 0;\n",
       "}\n",
       "\n",
       "/* Serial-specific style estimator block */\n",
       "\n",
       "#sk-container-id-1 div.sk-serial {\n",
       "  display: flex;\n",
       "  flex-direction: column;\n",
       "  align-items: center;\n",
       "  background-color: var(--sklearn-color-background);\n",
       "  padding-right: 1em;\n",
       "  padding-left: 1em;\n",
       "}\n",
       "\n",
       "\n",
       "/* Toggleable style: style used for estimator/Pipeline/ColumnTransformer box that is\n",
       "clickable and can be expanded/collapsed.\n",
       "- Pipeline and ColumnTransformer use this feature and define the default style\n",
       "- Estimators will overwrite some part of the style using the `sk-estimator` class\n",
       "*/\n",
       "\n",
       "/* Pipeline and ColumnTransformer style (default) */\n",
       "\n",
       "#sk-container-id-1 div.sk-toggleable {\n",
       "  /* Default theme specific background. It is overwritten whether we have a\n",
       "  specific estimator or a Pipeline/ColumnTransformer */\n",
       "  background-color: var(--sklearn-color-background);\n",
       "}\n",
       "\n",
       "/* Toggleable label */\n",
       "#sk-container-id-1 label.sk-toggleable__label {\n",
       "  cursor: pointer;\n",
       "  display: block;\n",
       "  width: 100%;\n",
       "  margin-bottom: 0;\n",
       "  padding: 0.5em;\n",
       "  box-sizing: border-box;\n",
       "  text-align: center;\n",
       "}\n",
       "\n",
       "#sk-container-id-1 label.sk-toggleable__label-arrow:before {\n",
       "  /* Arrow on the left of the label */\n",
       "  content: \"▸\";\n",
       "  float: left;\n",
       "  margin-right: 0.25em;\n",
       "  color: var(--sklearn-color-icon);\n",
       "}\n",
       "\n",
       "#sk-container-id-1 label.sk-toggleable__label-arrow:hover:before {\n",
       "  color: var(--sklearn-color-text);\n",
       "}\n",
       "\n",
       "/* Toggleable content - dropdown */\n",
       "\n",
       "#sk-container-id-1 div.sk-toggleable__content {\n",
       "  max-height: 0;\n",
       "  max-width: 0;\n",
       "  overflow: hidden;\n",
       "  text-align: left;\n",
       "  /* unfitted */\n",
       "  background-color: var(--sklearn-color-unfitted-level-0);\n",
       "}\n",
       "\n",
       "#sk-container-id-1 div.sk-toggleable__content.fitted {\n",
       "  /* fitted */\n",
       "  background-color: var(--sklearn-color-fitted-level-0);\n",
       "}\n",
       "\n",
       "#sk-container-id-1 div.sk-toggleable__content pre {\n",
       "  margin: 0.2em;\n",
       "  border-radius: 0.25em;\n",
       "  color: var(--sklearn-color-text);\n",
       "  /* unfitted */\n",
       "  background-color: var(--sklearn-color-unfitted-level-0);\n",
       "}\n",
       "\n",
       "#sk-container-id-1 div.sk-toggleable__content.fitted pre {\n",
       "  /* unfitted */\n",
       "  background-color: var(--sklearn-color-fitted-level-0);\n",
       "}\n",
       "\n",
       "#sk-container-id-1 input.sk-toggleable__control:checked~div.sk-toggleable__content {\n",
       "  /* Expand drop-down */\n",
       "  max-height: 200px;\n",
       "  max-width: 100%;\n",
       "  overflow: auto;\n",
       "}\n",
       "\n",
       "#sk-container-id-1 input.sk-toggleable__control:checked~label.sk-toggleable__label-arrow:before {\n",
       "  content: \"▾\";\n",
       "}\n",
       "\n",
       "/* Pipeline/ColumnTransformer-specific style */\n",
       "\n",
       "#sk-container-id-1 div.sk-label input.sk-toggleable__control:checked~label.sk-toggleable__label {\n",
       "  color: var(--sklearn-color-text);\n",
       "  background-color: var(--sklearn-color-unfitted-level-2);\n",
       "}\n",
       "\n",
       "#sk-container-id-1 div.sk-label.fitted input.sk-toggleable__control:checked~label.sk-toggleable__label {\n",
       "  background-color: var(--sklearn-color-fitted-level-2);\n",
       "}\n",
       "\n",
       "/* Estimator-specific style */\n",
       "\n",
       "/* Colorize estimator box */\n",
       "#sk-container-id-1 div.sk-estimator input.sk-toggleable__control:checked~label.sk-toggleable__label {\n",
       "  /* unfitted */\n",
       "  background-color: var(--sklearn-color-unfitted-level-2);\n",
       "}\n",
       "\n",
       "#sk-container-id-1 div.sk-estimator.fitted input.sk-toggleable__control:checked~label.sk-toggleable__label {\n",
       "  /* fitted */\n",
       "  background-color: var(--sklearn-color-fitted-level-2);\n",
       "}\n",
       "\n",
       "#sk-container-id-1 div.sk-label label.sk-toggleable__label,\n",
       "#sk-container-id-1 div.sk-label label {\n",
       "  /* The background is the default theme color */\n",
       "  color: var(--sklearn-color-text-on-default-background);\n",
       "}\n",
       "\n",
       "/* On hover, darken the color of the background */\n",
       "#sk-container-id-1 div.sk-label:hover label.sk-toggleable__label {\n",
       "  color: var(--sklearn-color-text);\n",
       "  background-color: var(--sklearn-color-unfitted-level-2);\n",
       "}\n",
       "\n",
       "/* Label box, darken color on hover, fitted */\n",
       "#sk-container-id-1 div.sk-label.fitted:hover label.sk-toggleable__label.fitted {\n",
       "  color: var(--sklearn-color-text);\n",
       "  background-color: var(--sklearn-color-fitted-level-2);\n",
       "}\n",
       "\n",
       "/* Estimator label */\n",
       "\n",
       "#sk-container-id-1 div.sk-label label {\n",
       "  font-family: monospace;\n",
       "  font-weight: bold;\n",
       "  display: inline-block;\n",
       "  line-height: 1.2em;\n",
       "}\n",
       "\n",
       "#sk-container-id-1 div.sk-label-container {\n",
       "  text-align: center;\n",
       "}\n",
       "\n",
       "/* Estimator-specific */\n",
       "#sk-container-id-1 div.sk-estimator {\n",
       "  font-family: monospace;\n",
       "  border: 1px dotted var(--sklearn-color-border-box);\n",
       "  border-radius: 0.25em;\n",
       "  box-sizing: border-box;\n",
       "  margin-bottom: 0.5em;\n",
       "  /* unfitted */\n",
       "  background-color: var(--sklearn-color-unfitted-level-0);\n",
       "}\n",
       "\n",
       "#sk-container-id-1 div.sk-estimator.fitted {\n",
       "  /* fitted */\n",
       "  background-color: var(--sklearn-color-fitted-level-0);\n",
       "}\n",
       "\n",
       "/* on hover */\n",
       "#sk-container-id-1 div.sk-estimator:hover {\n",
       "  /* unfitted */\n",
       "  background-color: var(--sklearn-color-unfitted-level-2);\n",
       "}\n",
       "\n",
       "#sk-container-id-1 div.sk-estimator.fitted:hover {\n",
       "  /* fitted */\n",
       "  background-color: var(--sklearn-color-fitted-level-2);\n",
       "}\n",
       "\n",
       "/* Specification for estimator info (e.g. \"i\" and \"?\") */\n",
       "\n",
       "/* Common style for \"i\" and \"?\" */\n",
       "\n",
       ".sk-estimator-doc-link,\n",
       "a:link.sk-estimator-doc-link,\n",
       "a:visited.sk-estimator-doc-link {\n",
       "  float: right;\n",
       "  font-size: smaller;\n",
       "  line-height: 1em;\n",
       "  font-family: monospace;\n",
       "  background-color: var(--sklearn-color-background);\n",
       "  border-radius: 1em;\n",
       "  height: 1em;\n",
       "  width: 1em;\n",
       "  text-decoration: none !important;\n",
       "  margin-left: 1ex;\n",
       "  /* unfitted */\n",
       "  border: var(--sklearn-color-unfitted-level-1) 1pt solid;\n",
       "  color: var(--sklearn-color-unfitted-level-1);\n",
       "}\n",
       "\n",
       ".sk-estimator-doc-link.fitted,\n",
       "a:link.sk-estimator-doc-link.fitted,\n",
       "a:visited.sk-estimator-doc-link.fitted {\n",
       "  /* fitted */\n",
       "  border: var(--sklearn-color-fitted-level-1) 1pt solid;\n",
       "  color: var(--sklearn-color-fitted-level-1);\n",
       "}\n",
       "\n",
       "/* On hover */\n",
       "div.sk-estimator:hover .sk-estimator-doc-link:hover,\n",
       ".sk-estimator-doc-link:hover,\n",
       "div.sk-label-container:hover .sk-estimator-doc-link:hover,\n",
       ".sk-estimator-doc-link:hover {\n",
       "  /* unfitted */\n",
       "  background-color: var(--sklearn-color-unfitted-level-3);\n",
       "  color: var(--sklearn-color-background);\n",
       "  text-decoration: none;\n",
       "}\n",
       "\n",
       "div.sk-estimator.fitted:hover .sk-estimator-doc-link.fitted:hover,\n",
       ".sk-estimator-doc-link.fitted:hover,\n",
       "div.sk-label-container:hover .sk-estimator-doc-link.fitted:hover,\n",
       ".sk-estimator-doc-link.fitted:hover {\n",
       "  /* fitted */\n",
       "  background-color: var(--sklearn-color-fitted-level-3);\n",
       "  color: var(--sklearn-color-background);\n",
       "  text-decoration: none;\n",
       "}\n",
       "\n",
       "/* Span, style for the box shown on hovering the info icon */\n",
       ".sk-estimator-doc-link span {\n",
       "  display: none;\n",
       "  z-index: 9999;\n",
       "  position: relative;\n",
       "  font-weight: normal;\n",
       "  right: .2ex;\n",
       "  padding: .5ex;\n",
       "  margin: .5ex;\n",
       "  width: min-content;\n",
       "  min-width: 20ex;\n",
       "  max-width: 50ex;\n",
       "  color: var(--sklearn-color-text);\n",
       "  box-shadow: 2pt 2pt 4pt #999;\n",
       "  /* unfitted */\n",
       "  background: var(--sklearn-color-unfitted-level-0);\n",
       "  border: .5pt solid var(--sklearn-color-unfitted-level-3);\n",
       "}\n",
       "\n",
       ".sk-estimator-doc-link.fitted span {\n",
       "  /* fitted */\n",
       "  background: var(--sklearn-color-fitted-level-0);\n",
       "  border: var(--sklearn-color-fitted-level-3);\n",
       "}\n",
       "\n",
       ".sk-estimator-doc-link:hover span {\n",
       "  display: block;\n",
       "}\n",
       "\n",
       "/* \"?\"-specific style due to the `<a>` HTML tag */\n",
       "\n",
       "#sk-container-id-1 a.estimator_doc_link {\n",
       "  float: right;\n",
       "  font-size: 1rem;\n",
       "  line-height: 1em;\n",
       "  font-family: monospace;\n",
       "  background-color: var(--sklearn-color-background);\n",
       "  border-radius: 1rem;\n",
       "  height: 1rem;\n",
       "  width: 1rem;\n",
       "  text-decoration: none;\n",
       "  /* unfitted */\n",
       "  color: var(--sklearn-color-unfitted-level-1);\n",
       "  border: var(--sklearn-color-unfitted-level-1) 1pt solid;\n",
       "}\n",
       "\n",
       "#sk-container-id-1 a.estimator_doc_link.fitted {\n",
       "  /* fitted */\n",
       "  border: var(--sklearn-color-fitted-level-1) 1pt solid;\n",
       "  color: var(--sklearn-color-fitted-level-1);\n",
       "}\n",
       "\n",
       "/* On hover */\n",
       "#sk-container-id-1 a.estimator_doc_link:hover {\n",
       "  /* unfitted */\n",
       "  background-color: var(--sklearn-color-unfitted-level-3);\n",
       "  color: var(--sklearn-color-background);\n",
       "  text-decoration: none;\n",
       "}\n",
       "\n",
       "#sk-container-id-1 a.estimator_doc_link.fitted:hover {\n",
       "  /* fitted */\n",
       "  background-color: var(--sklearn-color-fitted-level-3);\n",
       "}\n",
       "</style><div id=\"sk-container-id-1\" class=\"sk-top-container\"><div class=\"sk-text-repr-fallback\"><pre>DecisionTreeClassifier(random_state=42)</pre><b>In a Jupyter environment, please rerun this cell to show the HTML representation or trust the notebook. <br />On GitHub, the HTML representation is unable to render, please try loading this page with nbviewer.org.</b></div><div class=\"sk-container\" hidden><div class=\"sk-item\"><div class=\"sk-estimator fitted sk-toggleable\"><input class=\"sk-toggleable__control sk-hidden--visually\" id=\"sk-estimator-id-1\" type=\"checkbox\" checked><label for=\"sk-estimator-id-1\" class=\"sk-toggleable__label fitted sk-toggleable__label-arrow fitted\">&nbsp;&nbsp;DecisionTreeClassifier<a class=\"sk-estimator-doc-link fitted\" rel=\"noreferrer\" target=\"_blank\" href=\"https://scikit-learn.org/1.5/modules/generated/sklearn.tree.DecisionTreeClassifier.html\">?<span>Documentation for DecisionTreeClassifier</span></a><span class=\"sk-estimator-doc-link fitted\">i<span>Fitted</span></span></label><div class=\"sk-toggleable__content fitted\"><pre>DecisionTreeClassifier(random_state=42)</pre></div> </div></div></div></div>"
      ],
      "text/plain": [
       "DecisionTreeClassifier(random_state=42)"
      ]
     },
     "execution_count": 6,
     "metadata": {},
     "output_type": "execute_result"
    }
   ],
   "source": [
    "clf_num = DecisionTreeClassifier(random_state=42)\n",
    "clf_num.fit(X_train_num, y_train)"
   ]
  },
  {
   "cell_type": "markdown",
   "metadata": {},
   "source": [
    "### 4.2. Evaluate the model"
   ]
  },
  {
   "cell_type": "markdown",
   "metadata": {},
   "source": [
    "- Compute the accuracy of the classifier over the training data and the test data. Hint: you can use the `predict` method of the classifier to obtain the predicted labels from the train and test inputs and use `sklearn.metrics.accuracy_score` to compute the accuracy. \n",
    "  - Does the decision tree seem to overfit? Why? Print out the depth and the number of leaves for the tree."
   ]
  },
  {
   "cell_type": "code",
   "execution_count": 7,
   "metadata": {},
   "outputs": [
    {
     "name": "stdout",
     "output_type": "stream",
     "text": [
      "\n",
      "Decision Tree on numerical features:\n",
      "Training Accuracy: 0.9986691577304021\n",
      "Testing Accuracy: 0.7714197973180469\n",
      "Tree Depth: 52\n",
      "Number of Leaves: 7857\n"
     ]
    }
   ],
   "source": [
    "train_accuracy_num = accuracy_score(y_train, clf_num.predict(X_train_num))\n",
    "test_accuracy_num = accuracy_score(y_test, clf_num.predict(X_test_num))\n",
    "print(\"\\nDecision Tree on numerical features:\")\n",
    "print(\"Training Accuracy:\", train_accuracy_num)\n",
    "print(\"Testing Accuracy:\", test_accuracy_num)\n",
    "print(\"Tree Depth:\", clf_num.get_depth())\n",
    "print(\"Number of Leaves:\", clf_num.get_n_leaves())"
   ]
  },
  {
   "cell_type": "markdown",
   "metadata": {},
   "source": [
    "Q: Does the decision tree seem to overfit? Why? Print out the depth and the number of leaves for the tree.\n",
    "\n",
    "A: Yes, the Decision Tree seems to overfit. Here’s why:\n",
    "\n",
    "High Training Accuracy (99.87%):\n",
    "\n",
    "The tree is almost perfectly fitting the training data. This indicates that the tree is memorizing the training set instead of learning generalized patterns.\n",
    "Low Testing Accuracy (77.14%):\n",
    "\n",
    "The testing accuracy is significantly lower than the training accuracy, suggesting poor generalization to unseen data.\n",
    "Large Tree Depth (52):\n",
    "\n",
    "A depth of 52 means the tree has grown very deep, which increases the model's complexity. This leads to overfitting as the tree captures noise and fine details from the training data.\n",
    "High Number of Leaves (7857):\n",
    "\n",
    "The tree has split the data into 7,857 unique leaves. Each leaf may represent very specific patterns in the training data, further indicating overfitting.\n",
    "Why Does Overfitting Happen?\n",
    "Complexity of the Tree:\n",
    "By default, the Decision Tree grows until all data points are perfectly classified (no pruning or constraints). This leads to overfitting when the tree learns noise or specific quirks of the training set.\n",
    "\n",
    "Imbalance Between Depth and Data Size:\n",
    "With a large depth and too many leaves, the tree becomes excessively complex relative to the size of the dataset.\n",
    "\n",
    "How to Address Overfitting?\n",
    "Restrict Tree Complexity:\n",
    "\n",
    "Use parameters like max_depth, min_samples_split, and min_samples_leaf to control the size of the tree.\n",
    "Example:\n",
    "python\n",
    "Copy\n",
    "Edit\n",
    "clf = DecisionTreeClassifier(max_depth=10, random_state=42)\n",
    "Use Cross-Validation:\n",
    "\n",
    "Employ cross-validation to find optimal hyperparameters and ensure better generalization.\n",
    "Prune the Tree:\n",
    "\n",
    "Post-pruning can remove unnecessary branches to simplify the model.\n",
    "Switch to Ensemble Models:\n",
    "\n",
    "Use models like RandomForestClassifier or GradientBoostingClassifier to improve performance and reduce overfitting."
   ]
  },
  {
   "cell_type": "markdown",
   "metadata": {},
   "source": [
    "### 5. limit max_depth -> like Task 6"
   ]
  },
  {
   "cell_type": "markdown",
   "metadata": {},
   "source": [
    "### 6. Plot training and testing accuracy vs max_depth"
   ]
  },
  {
   "cell_type": "code",
   "execution_count": 8,
   "metadata": {},
   "outputs": [
    {
     "data": {
      "image/png": "[encoded data removed]",
      "text/plain": [
       "<Figure size 1000x600 with 1 Axes>"
      ]
     },
     "metadata": {},
     "output_type": "display_data"
    }
   ],
   "source": [
    "depths = range(1, 21)\n",
    "train_accuracies = []\n",
    "test_accuracies = []\n",
    "for depth in depths:\n",
    "    clf = DecisionTreeClassifier(max_depth=depth, random_state=42)\n",
    "    clf.fit(X_train_num, y_train)\n",
    "    train_accuracies.append(accuracy_score(y_train, clf.predict(X_train_num)))\n",
    "    test_accuracies.append(accuracy_score(y_test, clf.predict(X_test_num)))\n",
    "\n",
    "plt.figure(figsize=(10, 6))\n",
    "plt.plot(depths, train_accuracies, label='Training Accuracy')\n",
    "plt.plot(depths, test_accuracies, label='Testing Accuracy', linestyle='--')\n",
    "plt.xlabel('Max Depth')\n",
    "plt.ylabel('Accuracy')\n",
    "plt.title('Accuracy vs Max Depth for Decision Tree')\n",
    "plt.legend()\n",
    "plt.grid()\n",
    "plt.show()"
   ]
  },
  {
   "cell_type": "markdown",
   "metadata": {},
   "source": [
    "### 7. Cross-validation"
   ]
  },
  {
   "cell_type": "markdown",
   "metadata": {},
   "source": [
    "- Change the plot above to show the average 3-fold training and validation score using the cross_validate function. Hint: to return the training scores for each fold you need to specify `return_train_score=True` "
   ]
  },
  {
   "cell_type": "code",
   "execution_count": 9,
   "metadata": {},
   "outputs": [
    {
     "data": {
      "image/png": "[encoded data removed]",
      "text/plain": [
       "<Figure size 1000x600 with 1 Axes>"
      ]
     },
     "metadata": {},
     "output_type": "display_data"
    }
   ],
   "source": [
    "cv_results = []\n",
    "for depth in depths:\n",
    "    clf = DecisionTreeClassifier(max_depth=depth, random_state=42)\n",
    "    scores = cross_validate(clf, X_train_num, y_train, cv=3, return_train_score=True)\n",
    "    cv_results.append((np.mean(scores['train_score']), np.mean(scores['test_score'])))\n",
    "\n",
    "train_cv, val_cv = zip(*cv_results)\n",
    "plt.figure(figsize=(10, 6))\n",
    "plt.plot(depths, train_cv, label='Average Training Accuracy (CV)')\n",
    "plt.plot(depths, val_cv, label='Average Validation Accuracy (CV)', linestyle='--')\n",
    "plt.xlabel('Max Depth')\n",
    "plt.ylabel('Accuracy')\n",
    "plt.title('Cross-Validated Accuracy vs Max Depth')\n",
    "plt.legend()\n",
    "plt.grid()\n",
    "plt.show()"
   ]
  },
  {
   "cell_type": "markdown",
   "metadata": {},
   "source": [
    "### 8. GridSearchCV for hyperparameter tuning"
   ]
  },
  {
   "cell_type": "markdown",
   "metadata": {},
   "source": [
    "  - Hyperparameter optimisation can be performed more simply and efficiently by using `sklearn.model_selection.GridSearchCV`. Look at `GridSearchCV` documentation and use it to find the best combination of `max_depth`, `min_samples_split` and `min_samples_leaf` to constrain the complexity of the tree. **Keep each parameter to max 3-4 choices** or the computation would take a long amount of time. **Read the documentation for `RandomizedSearchCV` which can be used to tune a larger set of hyperparameters**"
   ]
  },
  {
   "cell_type": "code",
   "execution_count": 10,
   "metadata": {},
   "outputs": [
    {
     "name": "stdout",
     "output_type": "stream",
     "text": [
      "\n",
      "Best Parameters: {'max_depth': 10, 'min_samples_leaf': 5, 'min_samples_split': 2}\n",
      "Best CV Score: 0.8307527045890769\n"
     ]
    }
   ],
   "source": [
    "param_grid = {\n",
    "    'max_depth': [5, 10, 15],\n",
    "    'min_samples_split': [2, 5, 10],\n",
    "    'min_samples_leaf': [1, 5, 10]\n",
    "}\n",
    "grid_search = GridSearchCV(DecisionTreeClassifier(random_state=42), param_grid, cv=3, scoring='accuracy')\n",
    "grid_search.fit(X_train_num, y_train)\n",
    "print(\"\\nBest Parameters:\", grid_search.best_params_)\n",
    "print(\"Best CV Score:\", grid_search.best_score_)"
   ]
  },
  {
   "cell_type": "markdown",
   "metadata": {},
   "source": [
    "## Encoding and Pipelines"
   ]
  },
  {
   "cell_type": "markdown",
   "metadata": {},
   "source": [
    "### 9. Handle categorical features"
   ]
  },
  {
   "cell_type": "markdown",
   "metadata": {},
   "source": [
    "#### 9.1. Obtain X_train_cat"
   ]
  },
  {
   "cell_type": "markdown",
   "metadata": {},
   "source": [
    "- Obtain an X_train_cat by keeping only the categorical features from X_train. Sklearn’s DecisionTreeClassifier implementation does not natively support learning from categorical features. "
   ]
  },
  {
   "cell_type": "code",
   "execution_count": 11,
   "metadata": {},
   "outputs": [],
   "source": [
    "numerical_columns = X.select_dtypes(include=['int64', 'float64']).columns\n",
    "categorical_columns = [col for col in X.columns if col not in numerical_columns]\n",
    "X_train_cat = X_train[categorical_columns]\n",
    "X_test_cat = X_test[categorical_columns]"
   ]
  },
  {
   "cell_type": "markdown",
   "metadata": {},
   "source": [
    "#### 9.2. Encode X_train_cat Using OneHotEncoder"
   ]
  },
  {
   "cell_type": "markdown",
   "metadata": {},
   "source": [
    "Use OneHotEncoder to transform the categorical data into numerical data."
   ]
  },
  {
   "cell_type": "code",
   "execution_count": 12,
   "metadata": {},
   "outputs": [
    {
     "name": "stdout",
     "output_type": "stream",
     "text": [
      "X_train_enc Shape: (39073, 102)\n",
      "X_test_enc Shape: (9769, 102)\n"
     ]
    }
   ],
   "source": [
    "# Initialize OneHotEncoder\n",
    "encoder = OneHotEncoder(handle_unknown='ignore', sparse_output=False)\n",
    "\n",
    "# Fit the encoder and transform X_train_cat\n",
    "X_train_enc = encoder.fit_transform(X_train_cat)\n",
    "X_test_enc = encoder.transform(X_test_cat)\n",
    "\n",
    "# Display the shape of the transformed data\n",
    "print(\"X_train_enc Shape:\", X_train_enc.shape)\n",
    "print(\"X_test_enc Shape:\", X_test_enc.shape)\n"
   ]
  },
  {
   "cell_type": "markdown",
   "metadata": {},
   "source": [
    "#### 9.3. Train a DecisionTreeClassifier on Encoded Data"
   ]
  },
  {
   "cell_type": "code",
   "execution_count": 13,
   "metadata": {},
   "outputs": [
    {
     "name": "stdout",
     "output_type": "stream",
     "text": [
      "Training Accuracy (Categorical): 0.8628976531108438\n",
      "Testing Accuracy (Categorical): 0.8247517657897431\n"
     ]
    }
   ],
   "source": [
    "# Train a Decision Tree on the encoded categorical features\n",
    "clf_cat = DecisionTreeClassifier(random_state=42)\n",
    "clf_cat.fit(X_train_enc, y_train)\n",
    "\n",
    "# Evaluate the model\n",
    "train_accuracy_cat = accuracy_score(y_train, clf_cat.predict(X_train_enc))\n",
    "test_accuracy_cat = accuracy_score(y_test, clf_cat.predict(X_test_enc))\n",
    "\n",
    "print(\"Training Accuracy (Categorical):\", train_accuracy_cat)\n",
    "print(\"Testing Accuracy (Categorical):\", test_accuracy_cat)\n"
   ]
  },
  {
   "cell_type": "markdown",
   "metadata": {},
   "source": [
    "#### Comparison of Test and Training Performance\n",
    "\n",
    "1. Decision Tree on Numerical Features\n",
    "\n",
    "    Training Accuracy: 99.87%\\\n",
    "    Testing Accuracy: 77.14%\n",
    "\n",
    "    **Observations:**\n",
    "\n",
    "    The model heavily overfits the training data as evidenced by the large gap between training and testing accuracy.\n",
    "    The tree grows very deep, capturing noise and specific details from the training data, which hurts generalization.\n",
    "\n",
    "2. Decision Tree on Categorical Features (Tuned)\n",
    "\n",
    "    Training Accuracy (Categorical): 83.46%\\\n",
    "    Testing Accuracy (Categorical): 83.28%\n",
    "\n",
    "    **Observations:**\n",
    "\n",
    "    The model generalizes much better than the numerical-only Decision Tree, with a small gap between training and testing accuracy.\n",
    "    Hyperparameter tuning, such as limiting max_depth and min_samples_leaf, significantly improved the model's balance and performance.\n",
    "\n",
    "##### Key Insights\n",
    "\n",
    "**Numerical Features:**\n",
    "\n",
    "Using numerical features alone led to severe overfitting due to the unrestricted depth and complexity of the tree.\n",
    "The testing accuracy was relatively low, highlighting poor generalization.\n",
    "\n",
    "**Categorical Features:**\n",
    "\n",
    "Categorical features provide structured and meaningful splits after encoding, which results in better performance and less overfitting.\n",
    "Hyperparameter tuning further controlled complexity, boosting testing accuracy to 83.28%.\n",
    "\n",
    "##### Conclusion\n",
    "\n",
    "The tuned Decision Tree on categorical features is more effective and balanced than the numerical-only Decision Tree.\n",
    "Including categorical features and applying appropriate preprocessing improves generalization and prevents overfitting."
   ]
  },
  {
   "cell_type": "markdown",
   "metadata": {},
   "source": [
    "### 10. Inspect Missing Values During Encoding"
   ]
  },
  {
   "cell_type": "markdown",
   "metadata": {},
   "source": [
    "Look at the output of the encoder’s get_feature_names_out() method to see how missing values were handled."
   ]
  },
  {
   "cell_type": "code",
   "execution_count": 14,
   "metadata": {},
   "outputs": [
    {
     "name": "stdout",
     "output_type": "stream",
     "text": [
      "Encoded Feature Names:\n",
      " ['workclass_Federal-gov' 'workclass_Local-gov' 'workclass_Never-worked'\n",
      " 'workclass_Private' 'workclass_Self-emp-inc' 'workclass_Self-emp-not-inc'\n",
      " 'workclass_State-gov' 'workclass_Without-pay' 'workclass_nan'\n",
      " 'education_10th' 'education_11th' 'education_12th' 'education_1st-4th'\n",
      " 'education_5th-6th' 'education_7th-8th' 'education_9th'\n",
      " 'education_Assoc-acdm' 'education_Assoc-voc' 'education_Bachelors'\n",
      " 'education_Doctorate' 'education_HS-grad' 'education_Masters'\n",
      " 'education_Preschool' 'education_Prof-school' 'education_Some-college'\n",
      " 'marital-status_Divorced' 'marital-status_Married-AF-spouse'\n",
      " 'marital-status_Married-civ-spouse'\n",
      " 'marital-status_Married-spouse-absent' 'marital-status_Never-married'\n",
      " 'marital-status_Separated' 'marital-status_Widowed'\n",
      " 'occupation_Adm-clerical' 'occupation_Armed-Forces'\n",
      " 'occupation_Craft-repair' 'occupation_Exec-managerial'\n",
      " 'occupation_Farming-fishing' 'occupation_Handlers-cleaners'\n",
      " 'occupation_Machine-op-inspct' 'occupation_Other-service'\n",
      " 'occupation_Priv-house-serv' 'occupation_Prof-specialty'\n",
      " 'occupation_Protective-serv' 'occupation_Sales' 'occupation_Tech-support'\n",
      " 'occupation_Transport-moving' 'occupation_nan' 'relationship_Husband'\n",
      " 'relationship_Not-in-family' 'relationship_Other-relative'\n",
      " 'relationship_Own-child' 'relationship_Unmarried' 'relationship_Wife'\n",
      " 'race_Amer-Indian-Eskimo' 'race_Asian-Pac-Islander' 'race_Black'\n",
      " 'race_Other' 'race_White' 'sex_Female' 'sex_Male'\n",
      " 'native-country_Cambodia' 'native-country_Canada' 'native-country_China'\n",
      " 'native-country_Columbia' 'native-country_Cuba'\n",
      " 'native-country_Dominican-Republic' 'native-country_Ecuador'\n",
      " 'native-country_El-Salvador' 'native-country_England'\n",
      " 'native-country_France' 'native-country_Germany' 'native-country_Greece'\n",
      " 'native-country_Guatemala' 'native-country_Haiti'\n",
      " 'native-country_Holand-Netherlands' 'native-country_Honduras'\n",
      " 'native-country_Hong' 'native-country_Hungary' 'native-country_India'\n",
      " 'native-country_Iran' 'native-country_Ireland' 'native-country_Italy'\n",
      " 'native-country_Jamaica' 'native-country_Japan' 'native-country_Laos'\n",
      " 'native-country_Mexico' 'native-country_Nicaragua'\n",
      " 'native-country_Outlying-US(Guam-USVI-etc)' 'native-country_Peru'\n",
      " 'native-country_Philippines' 'native-country_Poland'\n",
      " 'native-country_Portugal' 'native-country_Puerto-Rico'\n",
      " 'native-country_Scotland' 'native-country_South' 'native-country_Taiwan'\n",
      " 'native-country_Thailand' 'native-country_Trinadad&Tobago'\n",
      " 'native-country_United-States' 'native-country_Vietnam'\n",
      " 'native-country_Yugoslavia' 'native-country_nan']\n"
     ]
    }
   ],
   "source": [
    "# Get the feature names after encoding\n",
    "feature_names = encoder.get_feature_names_out(categorical_columns)\n",
    "print(\"Encoded Feature Names:\\n\", feature_names)\n"
   ]
  },
  {
   "cell_type": "markdown",
   "metadata": {},
   "source": [
    "### 11. Handling Missing Values Using SimpleImputer"
   ]
  },
  {
   "cell_type": "markdown",
   "metadata": {},
   "source": [
    "This step focuses on handling missing values in X_train_cat by filling them with the most frequent value (mode) using SimpleImputer. Let's go through the process step-by-step:"
   ]
  },
  {
   "cell_type": "markdown",
   "metadata": {},
   "source": [
    "#### 11.1. Check for Missing Values"
   ]
  },
  {
   "cell_type": "markdown",
   "metadata": {},
   "source": [
    "Before imputing missing values, let's verify how many and which columns in X_train_cat contain missing values."
   ]
  },
  {
   "cell_type": "code",
   "execution_count": 15,
   "metadata": {},
   "outputs": [
    {
     "name": "stdout",
     "output_type": "stream",
     "text": [
      "Missing Values in Categorical Features:\n",
      " workclass         2264\n",
      "education            0\n",
      "marital-status       0\n",
      "occupation        2273\n",
      "relationship         0\n",
      "race                 0\n",
      "sex                  0\n",
      "native-country     671\n",
      "dtype: int64\n"
     ]
    }
   ],
   "source": [
    "# Check for missing values in categorical features\n",
    "missing_values_cat = X_train_cat.isnull().sum()\n",
    "print(\"Missing Values in Categorical Features:\\n\", missing_values_cat)\n"
   ]
  },
  {
   "cell_type": "markdown",
   "metadata": {},
   "source": [
    "#### 11.2. Fill Missing Values Using SimpleImputer"
   ]
  },
  {
   "cell_type": "markdown",
   "metadata": {},
   "source": [
    "Use SimpleImputer with strategy='most_frequent' to fill the missing values."
   ]
  },
  {
   "cell_type": "code",
   "execution_count": 16,
   "metadata": {},
   "outputs": [
    {
     "name": "stdout",
     "output_type": "stream",
     "text": [
      "Encoded Feature Names After Imputation:\n",
      " ['workclass_Federal-gov' 'workclass_Local-gov' 'workclass_Never-worked'\n",
      " 'workclass_Private' 'workclass_Self-emp-inc' 'workclass_Self-emp-not-inc'\n",
      " 'workclass_State-gov' 'workclass_Without-pay' 'education_10th'\n",
      " 'education_11th' 'education_12th' 'education_1st-4th' 'education_5th-6th'\n",
      " 'education_7th-8th' 'education_9th' 'education_Assoc-acdm'\n",
      " 'education_Assoc-voc' 'education_Bachelors' 'education_Doctorate'\n",
      " 'education_HS-grad' 'education_Masters' 'education_Preschool'\n",
      " 'education_Prof-school' 'education_Some-college'\n",
      " 'marital-status_Divorced' 'marital-status_Married-AF-spouse'\n",
      " 'marital-status_Married-civ-spouse'\n",
      " 'marital-status_Married-spouse-absent' 'marital-status_Never-married'\n",
      " 'marital-status_Separated' 'marital-status_Widowed'\n",
      " 'occupation_Adm-clerical' 'occupation_Armed-Forces'\n",
      " 'occupation_Craft-repair' 'occupation_Exec-managerial'\n",
      " 'occupation_Farming-fishing' 'occupation_Handlers-cleaners'\n",
      " 'occupation_Machine-op-inspct' 'occupation_Other-service'\n",
      " 'occupation_Priv-house-serv' 'occupation_Prof-specialty'\n",
      " 'occupation_Protective-serv' 'occupation_Sales' 'occupation_Tech-support'\n",
      " 'occupation_Transport-moving' 'relationship_Husband'\n",
      " 'relationship_Not-in-family' 'relationship_Other-relative'\n",
      " 'relationship_Own-child' 'relationship_Unmarried' 'relationship_Wife'\n",
      " 'race_Amer-Indian-Eskimo' 'race_Asian-Pac-Islander' 'race_Black'\n",
      " 'race_Other' 'race_White' 'sex_Female' 'sex_Male'\n",
      " 'native-country_Cambodia' 'native-country_Canada' 'native-country_China'\n",
      " 'native-country_Columbia' 'native-country_Cuba'\n",
      " 'native-country_Dominican-Republic' 'native-country_Ecuador'\n",
      " 'native-country_El-Salvador' 'native-country_England'\n",
      " 'native-country_France' 'native-country_Germany' 'native-country_Greece'\n",
      " 'native-country_Guatemala' 'native-country_Haiti'\n",
      " 'native-country_Holand-Netherlands' 'native-country_Honduras'\n",
      " 'native-country_Hong' 'native-country_Hungary' 'native-country_India'\n",
      " 'native-country_Iran' 'native-country_Ireland' 'native-country_Italy'\n",
      " 'native-country_Jamaica' 'native-country_Japan' 'native-country_Laos'\n",
      " 'native-country_Mexico' 'native-country_Nicaragua'\n",
      " 'native-country_Outlying-US(Guam-USVI-etc)' 'native-country_Peru'\n",
      " 'native-country_Philippines' 'native-country_Poland'\n",
      " 'native-country_Portugal' 'native-country_Puerto-Rico'\n",
      " 'native-country_Scotland' 'native-country_South' 'native-country_Taiwan'\n",
      " 'native-country_Thailand' 'native-country_Trinadad&Tobago'\n",
      " 'native-country_United-States' 'native-country_Vietnam'\n",
      " 'native-country_Yugoslavia']\n"
     ]
    }
   ],
   "source": [
    "# Impute missing values in categorical data\n",
    "imputer = SimpleImputer(strategy='most_frequent')\n",
    "X_train_cat_imputed = pd.DataFrame(imputer.fit_transform(X_train_cat), columns=categorical_columns)\n",
    "X_test_cat_imputed = pd.DataFrame(imputer.transform(X_test_cat), columns=categorical_columns)\n",
    "\n",
    "# Re-encode after imputing\n",
    "X_train_enc_imputed = encoder.fit_transform(X_train_cat_imputed)\n",
    "X_test_enc_imputed = encoder.transform(X_test_cat_imputed)\n",
    "\n",
    "# Check feature names again\n",
    "feature_names_imputed = encoder.get_feature_names_out(categorical_columns)\n",
    "print(\"Encoded Feature Names After Imputation:\\n\", feature_names_imputed)\n"
   ]
  },
  {
   "cell_type": "markdown",
   "metadata": {},
   "source": [
    "#### 11.3. Encode the Imputed Data Using OneHotEncoder"
   ]
  },
  {
   "cell_type": "markdown",
   "metadata": {},
   "source": [
    "Encode the categorical features after imputing missing values."
   ]
  },
  {
   "cell_type": "code",
   "execution_count": 17,
   "metadata": {},
   "outputs": [
    {
     "name": "stdout",
     "output_type": "stream",
     "text": [
      "Shape of Encoded Features (After Imputation):\n",
      "\n",
      "X_train_enc_imputed: (39073, 99)\n",
      "X_test_enc_imputed: (9769, 99)\n"
     ]
    }
   ],
   "source": [
    "# Re-encode the imputed categorical features\n",
    "X_train_enc_imputed = encoder.fit_transform(X_train_cat_imputed)\n",
    "X_test_enc_imputed = encoder.transform(X_test_cat_imputed)\n",
    "\n",
    "# Check the shape of the encoded features\n",
    "print(\"Shape of Encoded Features (After Imputation):\\n\")\n",
    "print(\"X_train_enc_imputed:\", X_train_enc_imputed.shape)\n",
    "print(\"X_test_enc_imputed:\", X_test_enc_imputed.shape)\n"
   ]
  },
  {
   "cell_type": "markdown",
   "metadata": {},
   "source": [
    "#### 11.4. Train and Evaluate the Decision Tree Classifier"
   ]
  },
  {
   "cell_type": "markdown",
   "metadata": {},
   "source": [
    "Train the DecisionTreeClassifier using the imputed and encoded categorical data."
   ]
  },
  {
   "cell_type": "code",
   "execution_count": 18,
   "metadata": {},
   "outputs": [
    {
     "name": "stdout",
     "output_type": "stream",
     "text": [
      "Training Accuracy (Categorical - Imputed): 0.8314948941724465\n",
      "Testing Accuracy (Categorical - Imputed): 0.8326338417442932\n"
     ]
    }
   ],
   "source": [
    "# Train a Decision Tree on the encoded data\n",
    "clf_cat_imputed = DecisionTreeClassifier(random_state=42, max_depth=10, min_samples_leaf=5, min_samples_split=2)\n",
    "clf_cat_imputed.fit(X_train_enc_imputed, y_train)\n",
    "\n",
    "# Evaluate the model\n",
    "train_accuracy_cat_imputed = accuracy_score(y_train, clf_cat_imputed.predict(X_train_enc_imputed))\n",
    "test_accuracy_cat_imputed = accuracy_score(y_test, clf_cat_imputed.predict(X_test_enc_imputed))\n",
    "\n",
    "print(\"Training Accuracy (Categorical - Imputed):\", train_accuracy_cat_imputed)\n",
    "print(\"Testing Accuracy (Categorical - Imputed):\", test_accuracy_cat_imputed)\n"
   ]
  },
  {
   "cell_type": "markdown",
   "metadata": {},
   "source": [
    "### 12. Automate with a Pipeline"
   ]
  },
  {
   "cell_type": "markdown",
   "metadata": {},
   "source": [
    "- Create a Pipeline with a SimpleImputer, OneHotEncoder and a DecisionTreeClassifier. \n",
    "- Train and verify the accuracy of the pipeline."
   ]
  },
  {
   "cell_type": "code",
   "execution_count": 19,
   "metadata": {},
   "outputs": [
    {
     "name": "stdout",
     "output_type": "stream",
     "text": [
      "Pipeline with Categorical Features:\n",
      "Training Accuracy: 0.8314948941724465\n",
      "Testing Accuracy: 0.8326338417442932\n"
     ]
    }
   ],
   "source": [
    "# Define the pipeline\n",
    "cat_pipeline = Pipeline([\n",
    "    ('imputer', SimpleImputer(strategy='most_frequent')),   # Fill missing values\n",
    "    ('encoder', OneHotEncoder(handle_unknown='ignore', sparse_output=False)),  # Encode features\n",
    "    ('classifier', DecisionTreeClassifier(random_state=42, max_depth=10, min_samples_leaf=5, min_samples_split=2))  # Train the Decision Tree\n",
    "])\n",
    "\n",
    "# Train the pipeline\n",
    "cat_pipeline.fit(X_train_cat, y_train)\n",
    "\n",
    "# Evaluate the pipeline\n",
    "train_accuracy_cat = accuracy_score(y_train, cat_pipeline.predict(X_train_cat))\n",
    "test_accuracy_cat = accuracy_score(y_test, cat_pipeline.predict(X_test_cat))\n",
    "\n",
    "print(\"Pipeline with Categorical Features:\")\n",
    "print(\"Training Accuracy:\", train_accuracy_cat)\n",
    "print(\"Testing Accuracy:\", test_accuracy_cat)"
   ]
  },
  {
   "cell_type": "markdown",
   "metadata": {},
   "source": [
    "### 13. Combining Categorical and Numerical Features with"
   ]
  },
  {
   "cell_type": "markdown",
   "metadata": {},
   "source": [
    "Use a ColumnTransformer to apply the categorical pre-processing pipeline (composed by an Imputer and one OneHotEncoder) to the categorical attributes of the data, leaving the numerical attribute unaltered (hint: have a look at the remainder parameter of ColumnTransformer)"
   ]
  },
  {
   "cell_type": "code",
   "execution_count": 20,
   "metadata": {},
   "outputs": [],
   "source": [
    "# Define the pipeline for categorical features\n",
    "cat_pipeline = Pipeline([\n",
    "    ('imputer', SimpleImputer(strategy='most_frequent')),   # Fill missing values\n",
    "    ('encoder', OneHotEncoder(handle_unknown='ignore', sparse_output=False))  # Encode features\n",
    "])\n",
    "\n",
    "# Combine categorical and numerical transformations\n",
    "preprocessor = ColumnTransformer([\n",
    "    ('cat', cat_pipeline, categorical_columns),  # Apply categorical pipeline\n",
    "    ('num', 'passthrough', numerical_columns)    # Leave numerical columns unaltered\n",
    "])\n",
    "\n",
    "# Define the full pipeline with a DecisionTreeClassifier\n",
    "full_pipeline = Pipeline([\n",
    "    ('preprocessor', preprocessor),\n",
    "    ('classifier', DecisionTreeClassifier(random_state=42, max_depth=10, min_samples_leaf=5, min_samples_split=2))\n",
    "])"
   ]
  },
  {
   "cell_type": "markdown",
   "metadata": {},
   "source": [
    "### 14. Evaluate full pipeline"
   ]
  },
  {
   "cell_type": "markdown",
   "metadata": {},
   "source": [
    " train and verify the accuracy of the Pipeline. Does the use of both types of features improve the accuracy?"
   ]
  },
  {
   "cell_type": "code",
   "execution_count": 21,
   "metadata": {},
   "outputs": [
    {
     "name": "stdout",
     "output_type": "stream",
     "text": [
      "Pipeline with Categorical and Numerical Features:\n",
      "Training Accuracy: 0.8665830624728074\n",
      "Testing Accuracy: 0.8636503224485618\n"
     ]
    }
   ],
   "source": [
    "# Train the full pipeline\n",
    "full_pipeline.fit(X_train, y_train)\n",
    "\n",
    "# Evaluate the pipeline\n",
    "train_accuracy_full = accuracy_score(y_train, full_pipeline.predict(X_train))\n",
    "test_accuracy_full = accuracy_score(y_test, full_pipeline.predict(X_test))\n",
    "\n",
    "print(\"Pipeline with Categorical and Numerical Features:\")\n",
    "print(\"Training Accuracy:\", train_accuracy_full)\n",
    "print(\"Testing Accuracy:\", test_accuracy_full)"
   ]
  },
  {
   "cell_type": "markdown",
   "metadata": {},
   "source": [
    "## Ensembles"
   ]
  },
  {
   "cell_type": "markdown",
   "metadata": {},
   "source": [
    "### 15. RandomForestClassifier"
   ]
  },
  {
   "cell_type": "code",
   "execution_count": 22,
   "metadata": {},
   "outputs": [
    {
     "name": "stdout",
     "output_type": "stream",
     "text": [
      "\n",
      "Random Forest Classifier:\n",
      "Training Accuracy: 0.8582908914083894\n",
      "Testing Accuracy: 0.8605793837649708\n"
     ]
    }
   ],
   "source": [
    "rf_pipeline = Pipeline([\n",
    "    ('preprocessor', preprocessor),\n",
    "    ('classifier', RandomForestClassifier(random_state=42, max_depth=10, min_samples_leaf=5, min_samples_split=2))\n",
    "])\n",
    "rf_pipeline.fit(X_train, y_train)\n",
    "\n",
    "train_accuracy_rf = accuracy_score(y_train, rf_pipeline.predict(X_train))\n",
    "test_accuracy_rf = accuracy_score(y_test, rf_pipeline.predict(X_test))\n",
    "print(\"\\nRandom Forest Classifier:\")\n",
    "print(\"Training Accuracy:\", train_accuracy_rf)\n",
    "print(\"Testing Accuracy:\", test_accuracy_rf)\n"
   ]
  },
  {
   "cell_type": "markdown",
   "metadata": {},
   "source": [
    "### 16. AdaBoostClassifier"
   ]
  },
  {
   "cell_type": "code",
   "execution_count": 23,
   "metadata": {},
   "outputs": [
    {
     "name": "stderr",
     "output_type": "stream",
     "text": [
      "/usr/local/anaconda3/envs/ml-algo/lib/python3.12/site-packages/sklearn/ensemble/_weight_boosting.py:527: FutureWarning: The SAMME.R algorithm (the default) is deprecated and will be removed in 1.6. Use the SAMME algorithm to circumvent this warning.\n",
      "  warnings.warn(\n"
     ]
    },
    {
     "name": "stdout",
     "output_type": "stream",
     "text": [
      "\n",
      "AdaBoost Classifier:\n",
      "Training Accuracy: 0.8601591892099404\n",
      "Testing Accuracy: 0.86764254273723\n"
     ]
    }
   ],
   "source": [
    "ada_pipeline = Pipeline([\n",
    "    ('preprocessor', preprocessor),\n",
    "    ('classifier', AdaBoostClassifier(random_state=42))\n",
    "])\n",
    "ada_pipeline.fit(X_train, y_train)\n",
    "\n",
    "train_accuracy_ada = accuracy_score(y_train, ada_pipeline.predict(X_train))\n",
    "test_accuracy_ada = accuracy_score(y_test, ada_pipeline.predict(X_test))\n",
    "print(\"\\nAdaBoost Classifier:\")\n",
    "print(\"Training Accuracy:\", train_accuracy_ada)\n",
    "print(\"Testing Accuracy:\", test_accuracy_ada)"
   ]
  },
  {
   "cell_type": "markdown",
   "metadata": {},
   "source": [
    "### 17. GradientBoostingClassifier"
   ]
  },
  {
   "cell_type": "code",
   "execution_count": 24,
   "metadata": {},
   "outputs": [
    {
     "name": "stdout",
     "output_type": "stream",
     "text": [
      "\n",
      "Gradient Boosting Classifier:\n",
      "Training Accuracy: 0.9199959051007089\n",
      "Testing Accuracy: 0.8777766403930801\n"
     ]
    }
   ],
   "source": [
    "gb_pipeline = Pipeline([\n",
    "    ('preprocessor', preprocessor),\n",
    "    ('classifier', GradientBoostingClassifier(random_state=42, max_depth=10, min_samples_leaf=5, min_samples_split=2))\n",
    "])\n",
    "gb_pipeline.fit(X_train, y_train)\n",
    "\n",
    "train_accuracy_gb = accuracy_score(y_train, gb_pipeline.predict(X_train))\n",
    "test_accuracy_gb = accuracy_score(y_test, gb_pipeline.predict(X_test))\n",
    "print(\"\\nGradient Boosting Classifier:\")\n",
    "print(\"Training Accuracy:\", train_accuracy_gb)\n",
    "print(\"Testing Accuracy:\", test_accuracy_gb)\n"
   ]
  },
  {
   "cell_type": "markdown",
   "metadata": {},
   "source": [
    "### Compare Performance"
   ]
  },
  {
   "cell_type": "markdown",
   "metadata": {},
   "source": [
    "| Classifier | Training Accuracy | Testing Accuracy | Notes |\n",
    "| --- | --- | --- | --- |\n",
    "| DecisionTreeClassifier | 86.66% | 86.37% | Generalizes well, but performance is limited by lack of ensemble learning. |\n",
    "| RandomForestClassifier | 85.83% | 86.06% | Slight improvement in generalization; avoids overfitting due to bagging. |\n",
    "| AdaBoostClassifier | 86.02% | 86.76% | Boosting improves performance by focusing on harder-to-predict instances. |\n",
    "| GradientBoostingClassifier | 91.99% | 87.78% | Best performer due to sequential boosting and optimized splits. |\n",
    "\n",
    "##### Key Insights\n",
    "\n",
    "1. DecisionTreeClassifier:\n",
    "\n",
    "   - Performs reasonably well but lacks the power of ensemble techniques.\n",
    "   - Overfits slightly less than Gradient Boosting, but its potential is limited without additional regularization.\n",
    "\n",
    "2.RandomForestClassifier:\n",
    "\n",
    "   - Improves stability and generalization by combining multiple trees (bagging).\n",
    "   - Testing accuracy is slightly lower than AdaBoost and Gradient Boosting but provides consistent results.\n",
    "\n",
    "3. AdaBoostClassifier:\n",
    "\n",
    "   - Slightly outperforms Random Forest in testing accuracy due to its sequential boosting approach.\n",
    "   - Focuses on misclassified instances, leading to better handling of complex patterns.\n",
    "\n",
    "4. GradientBoostingClassifier:\n",
    "\n",
    "   - Achieves the highest testing accuracy (87.78%) by sequentially improving weak learners.\n",
    "   - The model slightly overfits the training data (91.99% training accuracy), but the testing performance indicates robust learning.\n",
    "\n",
    "##### Conclusion\n",
    "\n",
    "- **Best Model:** GradientBoostingClassifier, with the highest testing accuracy of 87.78%.\n",
    "- **Balanced Model:** AdaBoostClassifier offers a good balance between training and testing performance with 86.76% testing accuracy.\n",
    "- **Recommendation:** Gradient Boosting should be the preferred choice for performance-critical tasks, while AdaBoost is a strong alternative for slightly simpler models."
   ]
  },
  {
   "cell_type": "markdown",
   "metadata": {},
   "source": []
  }
 ],
 "metadata": {
  "kernelspec": {
   "display_name": "ml-algo",
   "language": "python",
   "name": "python3"
  },
  "language_info": {
   "codemirror_mode": {
    "name": "ipython",
    "version": 3
   },
   "file_extension": ".py",
   "mimetype": "text/x-python",
   "name": "python",
   "nbconvert_exporter": "python",
   "pygments_lexer": "ipython3",
   "version": "3.12.7"
  }
 },
 "nbformat": 4,
 "nbformat_minor": 2
}
