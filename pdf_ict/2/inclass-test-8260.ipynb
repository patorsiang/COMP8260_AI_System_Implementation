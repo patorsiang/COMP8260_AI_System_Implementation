{
 "cells": [
  {
   "cell_type": "markdown",
   "id": "1fe93ddc",
   "metadata": {},
   "source": [
    "# COMP8260 In-Class Assessment 1\n",
    "\n",
    "Time: 1h 30m\n",
    "\n",
    "During the assessment you can access lecture slides and the following documentation pages:\n",
    "\n",
    "* https://scikit-learn.org/stable/modules/classes.html\n",
    "* https://pandas.pydata.org/docs/user_guide/index.html\n",
    "* https://numpy.org/doc/stable/user/index.html\n",
    "* https://matplotlib.org/stable/tutorials/introductory/pyplot.html\n",
    "\n",
    "From your PC, you cannot access code you or others have developed previously including solutions to previous classes. You cannot access any other external resource beyond the pages linked above.\n",
    "\n",
    "Save your notebook soon and frequently. In case the notebook crashes reloading the page will retrieve your last saved version, so if you have pending changes save the notebook before reloading.\n",
    "\n",
    "Before the end of the class upload your notebook to the moodle submission area (you can download it from the jupyter server using the `File/Download` command)."
   ]
  },
  {
   "cell_type": "markdown",
   "id": "d4065910",
   "metadata": {},
   "source": [
    "### Before starting enter your name and login below:"
   ]
  },
  {
   "cell_type": "markdown",
   "id": "db04d60f",
   "metadata": {},
   "source": [
    "* Name: Napatchol Thaipanich\n",
    "* Login: nt375"
   ]
  },
  {
   "cell_type": "markdown",
   "id": "a5f24dd7",
   "metadata": {},
   "source": [
    "## Q1\n",
    "\n",
    "Load the “SpeedDating” (version 1) dataset using fetch_openml. Extract the categoical features from the data into `X_cat` and split it and the target feature into a train and a test set. Print the percentage of the positive and negative classes.\n",
    "<p style='text-align: right;'>[4 marks]</p>"
   ]
  },
  {
   "cell_type": "code",
   "execution_count": 1,
   "id": "42eea822",
   "metadata": {},
   "outputs": [
    {
     "name": "stdout",
     "output_type": "stream",
     "text": [
      "Positive class: 16.31%\n",
      "Negative class: 83.69%\n"
     ]
    }
   ],
   "source": [
    "from sklearn.datasets import fetch_openml\n",
    "from sklearn.model_selection import train_test_split\n",
    "import pandas as pd\n",
    "\n",
    "# Load the \"SpeedDating\" dataset\n",
    "speed_dating = fetch_openml(name=\"SpeedDating\", version=1, as_frame=True, parser='auto')\n",
    "data = speed_dating.data\n",
    "target = speed_dating.target.astype(int)  # Convert target to integer\n",
    "\n",
    "# Extract categorical features\n",
    "categorical_features = data.select_dtypes(include=['category', 'object'])\n",
    "X_cat = pd.get_dummies(categorical_features)  # Convert categorical to numerical\n",
    "\n",
    "# Split data into train and test sets\n",
    "X_train, X_test, y_train, y_test = train_test_split(X_cat, target, test_size=0.2, random_state=42)\n",
    "\n",
    "# Calculate class distribution\n",
    "positive_class_percentage = (y_train.sum() / len(y_train)) * 100\n",
    "negative_class_percentage = 100 - positive_class_percentage\n",
    "\n",
    "print(f\"Positive class: {positive_class_percentage:.2f}%\")\n",
    "print(f\"Negative class: {negative_class_percentage:.2f}%\")\n"
   ]
  },
  {
   "cell_type": "markdown",
   "id": "756d3cef",
   "metadata": {},
   "source": [
    "## Q2\n",
    "\n",
    "Use a `OneHotEncoder` to encode the categorical attributes.\n",
    "<p style='text-align: right;'>[4 marks]</p>"
   ]
  },
  {
   "cell_type": "code",
   "execution_count": 2,
   "id": "d479bcda",
   "metadata": {},
   "outputs": [
    {
     "name": "stdout",
     "output_type": "stream",
     "text": [
      "(6702, 441) (1676, 441)\n"
     ]
    }
   ],
   "source": [
    "from sklearn.preprocessing import OneHotEncoder\n",
    "\n",
    "encoder = OneHotEncoder(handle_unknown='ignore', sparse_output=False)\n",
    "\n",
    "X_train_cat  = X_train[categorical_features]\n",
    "X_test_cat = X_test[categorical_features]\n",
    "\n",
    "\n",
    "X_train_enc = encoder.fit_transform(X_train_cat)\n",
    "X_test_enc = encoder.fit_transform(X_test_cat)\n",
    "\n",
    "print(X_train_enc.shape, X_test_enc.shape)"
   ]
  },
  {
   "cell_type": "markdown",
   "id": "f621acf0",
   "metadata": {},
   "source": [
    "## Q3\n",
    "\n",
    "Train a DecisionTreeClassifier on `X_train_enc`. Print out the accuracy, precision and recall of the classifier using `sklearn.metrics.classification_report`. How good is the classifier in terms of these three metrics compared to a classifier that would always predict the majority class?\n",
    "<p style='text-align: right;'>[4 marks]</p>"
   ]
  },
  {
   "cell_type": "code",
   "execution_count": 3,
   "id": "055d0739",
   "metadata": {},
   "outputs": [
    {
     "name": "stdout",
     "output_type": "stream",
     "text": [
      "              precision    recall  f1-score   support\n",
      "\n",
      "           0       0.83      1.00      0.91      1389\n",
      "           1       0.00      0.00      0.00       287\n",
      "\n",
      "    accuracy                           0.83      1676\n",
      "   macro avg       0.41      0.50      0.45      1676\n",
      "weighted avg       0.69      0.83      0.75      1676\n",
      "\n"
     ]
    },
    {
     "name": "stderr",
     "output_type": "stream",
     "text": [
      "/usr/local/anaconda3/envs/ml-algo/lib/python3.12/site-packages/sklearn/metrics/_classification.py:1531: UndefinedMetricWarning: Precision is ill-defined and being set to 0.0 in labels with no predicted samples. Use `zero_division` parameter to control this behavior.\n",
      "  _warn_prf(average, modifier, f\"{metric.capitalize()} is\", len(result))\n",
      "/usr/local/anaconda3/envs/ml-algo/lib/python3.12/site-packages/sklearn/metrics/_classification.py:1531: UndefinedMetricWarning: Precision is ill-defined and being set to 0.0 in labels with no predicted samples. Use `zero_division` parameter to control this behavior.\n",
      "  _warn_prf(average, modifier, f\"{metric.capitalize()} is\", len(result))\n",
      "/usr/local/anaconda3/envs/ml-algo/lib/python3.12/site-packages/sklearn/metrics/_classification.py:1531: UndefinedMetricWarning: Precision is ill-defined and being set to 0.0 in labels with no predicted samples. Use `zero_division` parameter to control this behavior.\n",
      "  _warn_prf(average, modifier, f\"{metric.capitalize()} is\", len(result))\n"
     ]
    }
   ],
   "source": [
    "from sklearn.tree import DecisionTreeClassifier\n",
    "from sklearn.metrics import classification_report\n",
    "\n",
    "dt_clf = DecisionTreeClassifier()\n",
    "\n",
    "\n",
    "dt_clf.fit(X_train_enc, y_train)\n",
    "\n",
    "y_pred = dt_clf.predict(X_test_enc)\n",
    "\n",
    "#print classification report\n",
    "print(classification_report(y_test, y_pred))"
   ]
  },
  {
   "cell_type": "markdown",
   "id": "2b3063d1",
   "metadata": {},
   "source": [
    "## Q4\n",
    "\n",
    "Train an AdaBoostClassifier using a DecisionTreeClassifier as base learner. Plot the ensemble training and testing accuracy as the base classifier max_depth varies between 1 and 5.\n",
    "\n",
    "<p style='text-align: right;'>[4 marks]</p>"
   ]
  },
  {
   "cell_type": "code",
   "execution_count": 4,
   "id": "538b0b99",
   "metadata": {},
   "outputs": [
    {
     "name": "stderr",
     "output_type": "stream",
     "text": [
      "/usr/local/anaconda3/envs/ml-algo/lib/python3.12/site-packages/sklearn/ensemble/_weight_boosting.py:527: FutureWarning: The SAMME.R algorithm (the default) is deprecated and will be removed in 1.6. Use the SAMME algorithm to circumvent this warning.\n",
      "  warnings.warn(\n",
      "/usr/local/anaconda3/envs/ml-algo/lib/python3.12/site-packages/sklearn/ensemble/_weight_boosting.py:527: FutureWarning: The SAMME.R algorithm (the default) is deprecated and will be removed in 1.6. Use the SAMME algorithm to circumvent this warning.\n",
      "  warnings.warn(\n",
      "/usr/local/anaconda3/envs/ml-algo/lib/python3.12/site-packages/sklearn/ensemble/_weight_boosting.py:527: FutureWarning: The SAMME.R algorithm (the default) is deprecated and will be removed in 1.6. Use the SAMME algorithm to circumvent this warning.\n",
      "  warnings.warn(\n",
      "/usr/local/anaconda3/envs/ml-algo/lib/python3.12/site-packages/sklearn/ensemble/_weight_boosting.py:527: FutureWarning: The SAMME.R algorithm (the default) is deprecated and will be removed in 1.6. Use the SAMME algorithm to circumvent this warning.\n",
      "  warnings.warn(\n",
      "/usr/local/anaconda3/envs/ml-algo/lib/python3.12/site-packages/sklearn/ensemble/_weight_boosting.py:527: FutureWarning: The SAMME.R algorithm (the default) is deprecated and will be removed in 1.6. Use the SAMME algorithm to circumvent this warning.\n",
      "  warnings.warn(\n"
     ]
    },
    {
     "data": {
      "image/png": "[encoded data removed]",
      "text/plain": [
       "<Figure size 800x500 with 1 Axes>"
      ]
     },
     "metadata": {},
     "output_type": "display_data"
    }
   ],
   "source": [
    "from sklearn.ensemble import AdaBoostClassifier\n",
    "from sklearn.metrics import accuracy_score\n",
    "import matplotlib.pyplot as plt\n",
    "\n",
    "max_depth_values = range(1, 6)\n",
    "train_accuracies = []\n",
    "test_accuracies = []\n",
    "\n",
    "for max_depth in max_depth_values:\n",
    "    base_clf = DecisionTreeClassifier(max_depth=max_depth)\n",
    "    ada_clf = AdaBoostClassifier(estimator=base_clf, n_estimators=50, random_state=42)\n",
    "    ada_clf.fit(X_train, y_train)\n",
    "\n",
    "    train_accuracy = ada_clf.score(X_train, y_train)\n",
    "    test_accuracy = ada_clf.score(X_test, y_test)\n",
    "\n",
    "    train_accuracies.append(train_accuracy)\n",
    "    test_accuracies.append(test_accuracy)\n",
    "\n",
    "# Plot training and testing accuracy\n",
    "plt.figure(figsize=(8, 5))\n",
    "plt.plot(max_depth_values, train_accuracies, marker='o', label='Training Accuracy')\n",
    "plt.plot(max_depth_values, test_accuracies, marker='s', label='Testing Accuracy')\n",
    "plt.xlabel(\"Max Depth of Base Classifier\")\n",
    "plt.ylabel(\"Accuracy\")\n",
    "plt.title(\"AdaBoost Classifier Accuracy vs. Base Classifier Depth\")\n",
    "plt.legend()\n",
    "plt.grid()\n",
    "plt.show()"
   ]
  },
  {
   "cell_type": "markdown",
   "id": "5d2ec68c",
   "metadata": {},
   "source": [
    "## Q5\n",
    "\n",
    "Define a pipeline that can handle both missing numerical values and categorical encoding using a ColumnTransformer followed by the best classifier you have found so far, compute its testing accuracy to see if the inclusion of the categorical attributes improves the accuracy.\n",
    "\n",
    "<p style='text-align: right;'>[4 marks]</p>"
   ]
  },
  {
   "cell_type": "code",
   "execution_count": 6,
   "id": "b24e73d5",
   "metadata": {},
   "outputs": [
    {
     "name": "stderr",
     "output_type": "stream",
     "text": [
      "/usr/local/anaconda3/envs/ml-algo/lib/python3.12/site-packages/sklearn/ensemble/_weight_boosting.py:527: FutureWarning: The SAMME.R algorithm (the default) is deprecated and will be removed in 1.6. Use the SAMME algorithm to circumvent this warning.\n",
      "  warnings.warn(\n"
     ]
    },
    {
     "name": "stdout",
     "output_type": "stream",
     "text": [
      "              precision    recall  f1-score   support\n",
      "\n",
      "           0       0.89      0.92      0.90      1389\n",
      "           1       0.53      0.45      0.49       287\n",
      "\n",
      "    accuracy                           0.84      1676\n",
      "   macro avg       0.71      0.68      0.69      1676\n",
      "weighted avg       0.83      0.84      0.83      1676\n",
      "\n"
     ]
    }
   ],
   "source": [
    "import pandas as pd\n",
    "from sklearn.compose import ColumnTransformer\n",
    "from sklearn.impute import SimpleImputer\n",
    "from sklearn.pipeline import Pipeline\n",
    "from sklearn.preprocessing import OneHotEncoder, StandardScaler\n",
    "from sklearn.tree import DecisionTreeClassifier\n",
    "from sklearn.ensemble import AdaBoostClassifier  # Import AdaBoostClassifier\n",
    "from sklearn.metrics import classification_report\n",
    "from sklearn.model_selection import train_test_split\n",
    "\n",
    "# Load data (assuming 'data' is predefined)\n",
    "# Extract categorical and numerical features\n",
    "categorical_features = data.select_dtypes(include=['category', 'object']).columns\n",
    "numerical_features = data.select_dtypes(include=['int64', 'float64']).columns\n",
    "\n",
    "# Split data into train and test sets\n",
    "X_train, X_test, y_train, y_test = train_test_split(data, target, test_size=0.2, random_state=42)\n",
    "\n",
    "# Ensure the columns exist in X_train\n",
    "missing_categorical = [col for col in categorical_features if col not in X_train.columns]\n",
    "missing_numerical = [col for col in numerical_features if col not in X_train.columns]\n",
    "\n",
    "if missing_categorical or missing_numerical:\n",
    "    print(\"Warning! Some selected columns are missing:\")\n",
    "    print(\"Missing categorical:\", missing_categorical)\n",
    "    print(\"Missing numerical:\", missing_numerical)\n",
    "\n",
    "# Define preprocessing steps\n",
    "numeric_transformer = Pipeline(steps=[\n",
    "    (\"imputer\", SimpleImputer(strategy=\"median\")),\n",
    "    (\"scaler\", StandardScaler())\n",
    "])\n",
    "\n",
    "categorical_transformer = Pipeline(steps=[\n",
    "    (\"encoder\", OneHotEncoder(handle_unknown=\"ignore\", sparse_output=False))\n",
    "])\n",
    "\n",
    "# Define ColumnTransformer\n",
    "preprocessor = ColumnTransformer(\n",
    "    transformers=[\n",
    "        (\"num\", numeric_transformer, numerical_features),\n",
    "        (\"cat\", categorical_transformer, categorical_features)\n",
    "    ],\n",
    "    remainder=\"drop\"\n",
    ")\n",
    "\n",
    "# Define the model\n",
    "best_clf = AdaBoostClassifier(estimator=DecisionTreeClassifier(max_depth=3), n_estimators=50, random_state=42)\n",
    "\n",
    "# Create the full pipeline\n",
    "pipeline = Pipeline(steps=[\n",
    "    (\"preprocessor\", preprocessor),\n",
    "    (\"classifier\", best_clf)\n",
    "])\n",
    "\n",
    "# Fit and evaluate the model\n",
    "pipeline.fit(X_train, y_train)\n",
    "y_pred = pipeline.predict(X_test)\n",
    "\n",
    "print(classification_report(y_test, y_pred))\n"
   ]
  },
  {
   "cell_type": "code",
   "execution_count": null,
   "id": "374dbad4-a983-4a0b-bcbb-2b66ec79d018",
   "metadata": {},
   "outputs": [],
   "source": []
  }
 ],
 "metadata": {
  "kernelspec": {
   "display_name": "Python 3 (ipykernel)",
   "language": "python",
   "name": "python3"
  },
  "language_info": {
   "codemirror_mode": {
    "name": "ipython",
    "version": 3
   },
   "file_extension": ".py",
   "mimetype": "text/x-python",
   "name": "python",
   "nbconvert_exporter": "python",
   "pygments_lexer": "ipython3",
   "version": "3.10.12"
  }
 },
 "nbformat": 4,
 "nbformat_minor": 5
}
